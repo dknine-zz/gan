{
 "cells": [
  {
   "cell_type": "code",
   "execution_count": 1,
   "metadata": {
    "collapsed": true
   },
   "outputs": [
    {
     "name": "stderr",
     "output_type": "stream",
     "text": [
      "C:\\Users\\edgar.dakin\\AppData\\Local\\Continuum\\Anaconda3\\envs\\gpu\\lib\\site-packages\\h5py\\__init__.py:36: FutureWarning: Conversion of the second argument of issubdtype from `float` to `np.floating` is deprecated. In future, it will be treated as `np.float64 == np.dtype(float).type`.\n",
      "  from ._conv import register_converters as _register_converters\n",
      "Using TensorFlow backend.\n"
     ]
    }
   ],
   "source": [
    "%matplotlib inline\n",
    "from ipywidgets import interactive\n",
    "import matplotlib.pyplot as plt\n",
    "import seaborn as sns\n",
    "import pandas as pd\n",
    "import numpy as np\n",
    "import sys\n",
    "import re\n",
    "import os\n",
    "from PIL import Image\n",
    "from keras.datasets import mnist\n",
    "from keras.models import Model, load_model\n",
    "from keras.layers import Input, Dense, Reshape, Conv2D, Dropout, Flatten, UpSampling2D, LeakyReLU, Embedding, Multiply, BatchNormalization, Activation\n",
    "from keras.optimizers import Adam\n",
    "from keras.utils.generic_utils import Progbar"
   ]
  },
  {
   "cell_type": "markdown",
   "metadata": {},
   "source": [
    "### Based on https://arxiv.org/pdf/1610.09585v4.pdf"
   ]
  },
  {
   "cell_type": "markdown",
   "metadata": {},
   "source": [
    "## Constants"
   ]
  },
  {
   "cell_type": "code",
   "execution_count": 2,
   "metadata": {},
   "outputs": [],
   "source": [
    "# Generator constants\n",
    "NUM_DIGIT_CLASSES = 10\n",
    "NOISE_LAYER_SIZE = 100\n",
    "\n",
    "# Discriminator constants\n",
    "IMAGE_SHAPE = (28, 28, 1)\n",
    "\n",
    "# Training constants\n",
    "ADAM_LR = 0.00005\n",
    "ADAM_BETA1 = 0.5\n",
    "BATCH_SIZE = 100\n",
    "\n",
    "# Dataset lengths\n",
    "NX1 = 60000\n",
    "NX2 = 10000"
   ]
  },
  {
   "cell_type": "markdown",
   "metadata": {},
   "source": [
    "## Generator"
   ]
  },
  {
   "cell_type": "code",
   "execution_count": 9,
   "metadata": {},
   "outputs": [],
   "source": [
    "# Create inputs\n",
    "digit_in = Input(shape=(NUM_DIGIT_CLASSES,), dtype='int32')\n",
    "noise_in = Input(shape=(NOISE_LAYER_SIZE,), dtype='float32')\n",
    "\n",
    "# Combine inputs\n",
    "digit_embed = Embedding(input_dim=NUM_DIGIT_CLASSES, output_dim=NOISE_LAYER_SIZE, embeddings_initializer='glorot_normal')(digit_in)\n",
    "combined = Multiply()([noise_in, digit_embed])\n",
    "combined = Flatten()(combined)\n",
    "\n",
    "# Add layers\n",
    "gen = Dense(1024)(combined)\n",
    "gen = BatchNormalization(momentum=0.9)(gen)\n",
    "gen = Activation('relu')(gen)\n",
    "gen = Dense(128*7*7)(gen)\n",
    "gen = BatchNormalization(momentum=0.9)(gen)\n",
    "gen = Activation('relu')(gen)\n",
    "gen = Reshape((7, 7, 128))(gen)\n",
    "gen = UpSampling2D((2, 2))(gen)\n",
    "gen = Conv2D(256, (5, 5), padding='same', kernel_initializer='glorot_normal')(gen)\n",
    "gen = BatchNormalization(momentum=0.9)(gen)\n",
    "gen = Activation('tanh')(gen)\n",
    "gen = UpSampling2D((2, 2))(gen)\n",
    "gen = Conv2D(128, (5, 5), padding='same', kernel_initializer='glorot_normal')(gen)\n",
    "gen = BatchNormalization(momentum=0.9)(gen)\n",
    "gen = Activation('tanh')(gen)\n",
    "gen = Conv2D(1, (2, 2), padding='same', kernel_initializer='glorot_normal')(gen)\n",
    "gen = BatchNormalization(momentum=0.9)(gen)\n",
    "gen = Activation('tanh')(gen)\n",
    "\n",
    "# Create and compile model\n",
    "generator = Model([digit_in, noise_in], gen)\n",
    "generator.compile(Adam(ADAM_LR, ADAM_BETA1), 'binary_crossentropy')"
   ]
  },
  {
   "cell_type": "markdown",
   "metadata": {},
   "source": [
    "## Discriminator"
   ]
  },
  {
   "cell_type": "code",
   "execution_count": 10,
   "metadata": {},
   "outputs": [],
   "source": [
    "# Input\n",
    "img_in = Input(shape=IMAGE_SHAPE)\n",
    "\n",
    "# Layers\n",
    "conv1 = Conv2D(32, (3, 3), strides=(2, 2), padding='same')(img_in)\n",
    "leaky1 = LeakyReLU()(conv1)\n",
    "dropout1 = Dropout(0.3)(leaky1)\n",
    "conv2 = Conv2D(64, (3, 3), strides=(1, 1), padding='same')(dropout1)\n",
    "leaky2 = LeakyReLU()(conv2)\n",
    "dropout2 = Dropout(0.3)(leaky2)\n",
    "conv3 = Conv2D(128, (3, 3), strides=(2, 2), padding='same')(dropout2)\n",
    "leaky3 = LeakyReLU()(conv3)\n",
    "dropout3 = Dropout(0.3)(leaky3)\n",
    "conv4 = Conv2D(256, (3, 3), strides=(1, 1), padding='same')(dropout3)\n",
    "leaky4 = LeakyReLU()(conv4)\n",
    "dropout4 = Dropout(0.3)(leaky4)\n",
    "flatten1 = Flatten()(dropout4)\n",
    "\n",
    "# Outputs\n",
    "is_real = Dense(1, activation='sigmoid', name='is_it_real')(flatten1)\n",
    "which_class = Dense(10, activation='softmax', name='predicted_label')(flatten1)\n",
    "\n",
    "# Create and compile model\n",
    "discriminator = Model(img_in, [is_real, which_class])\n",
    "discriminator.compile(Adam(ADAM_LR, ADAM_BETA1), ['binary_crossentropy', 'categorical_crossentropy'])"
   ]
  },
  {
   "cell_type": "markdown",
   "metadata": {},
   "source": [
    "## Combined Model"
   ]
  },
  {
   "cell_type": "code",
   "execution_count": 11,
   "metadata": {},
   "outputs": [],
   "source": [
    "# Inputs\n",
    "digit_in = Input(shape=(NUM_DIGIT_CLASSES,), dtype='int32')\n",
    "noise_in = Input(shape=(NOISE_LAYER_SIZE,), dtype='float32')\n",
    "\n",
    "# Network structure\n",
    "fake = generator([digit_in, noise_in])\n",
    "discriminator.trainable = False\n",
    "is_real, which_class = discriminator(fake)\n",
    "\n",
    "# Compilation\n",
    "combined = Model([digit_in, noise_in], [is_real, which_class])\n",
    "combined.compile(Adam(ADAM_LR, ADAM_BETA1), ['binary_crossentropy', 'categorical_crossentropy'])"
   ]
  },
  {
   "cell_type": "markdown",
   "metadata": {},
   "source": [
    "## Import MNIST"
   ]
  },
  {
   "cell_type": "code",
   "execution_count": 12,
   "metadata": {},
   "outputs": [],
   "source": [
    "(x1, y1), (x2, y2) = mnist.load_data()\n",
    "x_train = (x1.astype(np.float32)/127.5 - 1).reshape((NX1, 28, 28, 1))\n",
    "x_test = (x2.astype(np.float32)/127.5 - 1).reshape((NX2, 28, 28, 1))\n",
    "y_train = pd.get_dummies(y1).values\n",
    "y_test = pd.get_dummies(y2).values"
   ]
  },
  {
   "cell_type": "code",
   "execution_count": 13,
   "metadata": {},
   "outputs": [],
   "source": [
    "def expand_labels(labels):\n",
    "    labels = pd.get_dummies(labels)\n",
    "    if labels.columns.shape[0] != 10:\n",
    "        for col in range(10):\n",
    "            if col not in list(labels.columns):\n",
    "                labels[col] = 0\n",
    "    return labels.values"
   ]
  },
  {
   "cell_type": "markdown",
   "metadata": {},
   "source": [
    "## Training"
   ]
  },
  {
   "cell_type": "code",
   "execution_count": 15,
   "metadata": {},
   "outputs": [],
   "source": [
    "EPOCHS = 250\n",
    "num_batches = int(NX1/BATCH_SIZE)\n",
    "gen_train_losses, disc_train_losses, disc_test_losses = [], [], []"
   ]
  },
  {
   "cell_type": "code",
   "execution_count": null,
   "metadata": {
    "collapsed": true
   },
   "outputs": [
    {
     "name": "stdout",
     "output_type": "stream",
     "text": [
      "Epoch 1 of 250:\n"
     ]
    },
    {
     "name": "stderr",
     "output_type": "stream",
     "text": [
      "C:\\Users\\edgar.dakin\\AppData\\Local\\Continuum\\Anaconda3\\envs\\gpu\\lib\\site-packages\\keras\\engine\\training.py:975: UserWarning: Discrepancy between trainable weights and collected trainable weights, did you set `model.trainable` without calling `model.compile` after ?\n",
      "  'Discrepancy between trainable weights and collected trainable'\n"
     ]
    },
    {
     "name": "stdout",
     "output_type": "stream",
     "text": [
      "599/600 [============================>.] - ETA: 0ss15 \n",
      "Generator training loss: 3.27267\n",
      "Discriminator training losses: 0.25624 | 0.00171 | 0.25453\n",
      "Discriminator testing  losses: 0.97094 | 0.09890 | 0.87204\n",
      "----------------------------------------------------------\n",
      "Epoch 2 of 250:\n",
      "599/600 [============================>.] - ETA: 0ss\n",
      "Generator training loss: 4.32496\n",
      "Discriminator training losses: 0.19070 | 0.00068 | 0.19002\n",
      "Discriminator testing  losses: 0.28827 | 0.00273 | 0.28555\n",
      "----------------------------------------------------------\n",
      "Epoch 3 of 250:\n",
      "599/600 [============================>.] - ETA: 0ss\n",
      "Generator training loss: 4.78481\n",
      "Discriminator training losses: 0.22019 | 0.04165 | 0.17854\n",
      "Discriminator testing  losses: 0.27404 | 0.02335 | 0.25069\n",
      "----------------------------------------------------------\n",
      "Epoch 4 of 250:\n",
      "599/600 [============================>.] - ETA: 0ss\n",
      "Generator training loss: 4.97496\n",
      "Discriminator training losses: 1.60614 | 1.34676 | 0.25938\n",
      "Discriminator testing  losses: 0.23960 | 0.01817 | 0.22143\n",
      "----------------------------------------------------------\n",
      "Epoch 5 of 250:\n",
      "599/600 [============================>.] - ETA: 0ss\n",
      "Generator training loss: 4.93228\n",
      "Discriminator training losses: 0.12249 | 0.00218 | 0.12031\n",
      "Discriminator testing  losses: 0.21456 | 0.01862 | 0.19594\n",
      "----------------------------------------------------------\n",
      "Epoch 6 of 250:\n",
      "599/600 [============================>.] - ETA: 0ss\n",
      "Generator training loss: 5.06181\n",
      "Discriminator training losses: 0.10754 | 0.00167 | 0.10587\n",
      "Discriminator testing  losses: 0.17400 | 0.00524 | 0.16876\n",
      "----------------------------------------------------------\n",
      "Epoch 7 of 250:\n",
      "599/600 [============================>.] - ETA: 0ss0\n",
      "Generator training loss: 5.34010\n",
      "Discriminator training losses: 0.50358 | 0.38046 | 0.12313\n",
      "Discriminator testing  losses: 0.16467 | 0.01753 | 0.14714\n",
      "----------------------------------------------------------\n",
      "Epoch 8 of 250:\n",
      "599/600 [============================>.] - ETA: 0ss\n",
      "Generator training loss: 5.12999\n",
      "Discriminator training losses: 0.08787 | 0.00268 | 0.08519\n",
      "Discriminator testing  losses: 0.16883 | 0.01672 | 0.15211\n",
      "----------------------------------------------------------\n",
      "Epoch 9 of 250:\n",
      "599/600 [============================>.] - ETA: 0ss\n",
      "Generator training loss: 5.53187\n",
      "Discriminator training losses: 0.13636 | 0.05478 | 0.08158\n",
      "Discriminator testing  losses: 0.17017 | 0.04542 | 0.12475\n",
      "----------------------------------------------------------\n",
      "Epoch 10 of 250:\n",
      "599/600 [============================>.] - ETA: 0ss\n",
      "Generator training loss: 5.48835\n",
      "Discriminator training losses: 0.13351 | 0.08287 | 0.05064\n",
      "Discriminator testing  losses: 0.23080 | 0.15329 | 0.07751\n",
      "----------------------------------------------------------\n",
      "Epoch 15 of 250:\n",
      "599/600 [============================>.] - ETA: 0s5\n",
      "Generator training loss: 5.50413\n",
      "Discriminator training losses: 0.20345 | 0.15665 | 0.04680\n",
      "Discriminator testing  losses: 0.23641 | 0.16313 | 0.07328\n",
      "----------------------------------------------------------\n",
      "Epoch 16 of 250:\n",
      "599/600 [============================>.] - ETA: 0ss\n",
      "Generator training loss: 5.27175\n",
      "Discriminator training losses: 0.50232 | 0.46221 | 0.04011\n",
      "Discriminator testing  losses: 0.24466 | 0.18152 | 0.06314\n",
      "----------------------------------------------------------\n",
      "Epoch 20 of 250:\n",
      "599/600 [============================>.] - ETA: 0ss\n",
      "Generator training loss: 4.96302\n",
      "Discriminator training losses: 1.13873 | 1.10090 | 0.03783\n",
      "Discriminator testing  losses: 0.25468 | 0.19530 | 0.05938\n",
      "----------------------------------------------------------\n",
      "Epoch 23 of 250:\n",
      "599/600 [============================>.] - ETA: 0s2\n",
      "Generator training loss: 4.62195\n",
      "Discriminator training losses: 1.46933 | 1.43412 | 0.03521\n",
      "Discriminator testing  losses: 0.27510 | 0.21759 | 0.05751\n",
      "----------------------------------------------------------\n",
      "Epoch 26 of 250:\n",
      "599/600 [============================>.] - ETA: 0ss\n",
      "Generator training loss: 3.74941\n",
      "Discriminator training losses: 1.73289 | 1.70057 | 0.03232\n",
      "Discriminator testing  losses: 0.30971 | 0.25825 | 0.05146\n",
      "----------------------------------------------------------\n",
      "Epoch 33 of 250:\n",
      "599/600 [============================>.] - ETA: 0ss\n",
      "Generator training loss: 0.92132\n",
      "Discriminator training losses: 1.86239 | 1.83971 | 0.02269\n",
      "Discriminator testing  losses: 0.55086 | 0.51295 | 0.03791\n",
      "----------------------------------------------------------\n",
      "Epoch 64 of 250:\n",
      "599/600 [============================>.] - ETA: 0ss0\n",
      "Generator training loss: 0.75940\n",
      "Discriminator training losses: 1.97547 | 1.95317 | 0.02230\n",
      "Discriminator testing  losses: 0.60741 | 0.57176 | 0.03565\n",
      "----------------------------------------------------------\n",
      "Epoch 69 of 250:\n",
      "599/600 [============================>.] - ETA: 0s11\n",
      "Generator training loss: 0.56202\n",
      "Discriminator training losses: 1.24511 | 1.22507 | 0.02005\n",
      "Discriminator testing  losses: 0.69425 | 0.66091 | 0.03334\n",
      "----------------------------------------------------------\n",
      "Epoch 80 of 250:\n",
      "102/600 [====>.........................] - ETA: 4:19\n",
      "Generator training loss: 0.52096\n",
      "Discriminator training losses: 1.07989 | 1.06134 | 0.01854\n",
      "Discriminator testing  losses: 0.70904 | 0.67879 | 0.03025\n",
      "----------------------------------------------------------\n",
      "Epoch 86 of 250:\n",
      "599/600 [============================>.] - ETA: 0s30\n",
      "Generator training loss: 0.49134\n",
      "Discriminator training losses: 0.97044 | 0.95347 | 0.01698\n",
      "Discriminator testing  losses: 0.71878 | 0.69021 | 0.02857\n",
      "----------------------------------------------------------\n",
      "Epoch 93 of 250:\n",
      " 94/600 [===>..........................] - ETA: 4:16\n",
      "Generator training loss: 0.48004\n",
      "Discriminator training losses: 0.84120 | 0.82527 | 0.01593\n",
      "Discriminator testing  losses: 0.72030 | 0.69456 | 0.02575\n",
      "----------------------------------------------------------\n",
      "Epoch 100 of 250:\n",
      "599/600 [============================>.] - ETA: 0ss1\n",
      "Generator training loss: 0.47017\n",
      "Discriminator training losses: 0.74203 | 0.72783 | 0.01420\n",
      "Discriminator testing  losses: 0.71792 | 0.69687 | 0.02106\n",
      "----------------------------------------------------------\n",
      "Epoch 116 of 250:\n",
      "599/600 [============================>.] - ETA: 0ss\n",
      "Generator training loss: 0.46763\n",
      "Discriminator training losses: 0.72973 | 0.71731 | 0.01242\n",
      "Discriminator testing  losses: 0.71243 | 0.69588 | 0.01655\n",
      "----------------------------------------------------------\n",
      "Epoch 143 of 250:\n",
      "599/600 [============================>.] - ETA: 0ss0\n",
      "Generator training loss: 0.46831\n",
      "Discriminator training losses: 0.71836 | 0.70676 | 0.01160\n",
      "Discriminator testing  losses: 0.70881 | 0.69472 | 0.01409\n",
      "----------------------------------------------------------\n",
      "Epoch 163 of 250:\n",
      "599/600 [============================>.] - ETA: 0s1\n",
      "Generator training loss: 0.46588\n",
      "Discriminator training losses: 0.72035 | 0.70934 | 0.01101\n",
      "Discriminator testing  losses: 0.70783 | 0.69575 | 0.01208\n",
      "----------------------------------------------------------\n",
      "Epoch 186 of 250:\n",
      "221/600 [==========>...................] - ETA: 3:09\n",
      "Generator training loss: 0.46560\n",
      "Discriminator training losses: 0.72065 | 0.70986 | 0.01079\n",
      "Discriminator testing  losses: 0.70563 | 0.69548 | 0.01015\n",
      "----------------------------------------------------------\n",
      "Epoch 211 of 250:\n",
      "599/600 [============================>.] - ETA: 0s42\n",
      "Generator training loss: 0.46515\n",
      "Discriminator training losses: 0.72007 | 0.70953 | 0.01054\n",
      "Discriminator testing  losses: 0.70507 | 0.69522 | 0.00985\n",
      "----------------------------------------------------------\n",
      "Epoch 225 of 250:\n",
      "599/600 [============================>.] - ETA: 0s32\n",
      "Generator training loss: 0.46511\n",
      "Discriminator training losses: 0.71261 | 0.70168 | 0.01092\n",
      "Discriminator testing  losses: 0.70493 | 0.69554 | 0.00939\n",
      "----------------------------------------------------------\n",
      "Epoch 240 of 250:\n",
      "140/600 [======>.......................] - ETA: 3:50"
     ]
    }
   ],
   "source": [
    "for ep in range(EPOCHS):\n",
    "    print('Epoch {0} of {1}:'.format(ep+1, EPOCHS))\n",
    "    progress_bar = Progbar(target=num_batches)\n",
    "    generator_loss, discriminator_loss = [], []\n",
    "\n",
    "    for ix in range(num_batches):\n",
    "\n",
    "        # Generate noise, sample and process labels\n",
    "        noise = np.random.uniform(-1, 1, (BATCH_SIZE, NOISE_LAYER_SIZE))\n",
    "        rand_labels = expand_labels(np.random.randint(0, 10, BATCH_SIZE))\n",
    "\n",
    "        # Select training images and labels\n",
    "        imgs = x_train[ix*BATCH_SIZE: (ix+1)*BATCH_SIZE]\n",
    "        labs = y_train[ix*BATCH_SIZE: (ix+1)*BATCH_SIZE]\n",
    "\n",
    "        fake_images = generator.predict([rand_labels, noise])\n",
    "\n",
    "        full_imgs = np.concatenate((imgs, fake_images), axis=0)\n",
    "        full_real = np.array([1]*BATCH_SIZE + [0]*BATCH_SIZE)\n",
    "        full_labs = np.concatenate((labs, rand_labels), axis=0)\n",
    "\n",
    "        discriminator_loss.append(discriminator.train_on_batch(full_imgs, [full_real, full_labs]))\n",
    "\n",
    "        double_noise = np.random.uniform(-1, 1, (2*BATCH_SIZE, NOISE_LAYER_SIZE))\n",
    "        double_rand_labels = expand_labels(np.random.randint(0, 10, 2*BATCH_SIZE))\n",
    "        full_trick = np.ones(2*BATCH_SIZE)\n",
    "\n",
    "        generator_loss.append(combined.train_on_batch([double_rand_labels, double_noise],\n",
    "                                                      [full_trick, double_rand_labels]))\n",
    "\n",
    "        progress_bar.update(ix)\n",
    "\n",
    "    # Testing\n",
    "    test_noise = np.random.uniform(-1, 1, (NX2, NOISE_LAYER_SIZE))\n",
    "    test_labels = expand_labels(np.random.randint(0, 10, NX2))\n",
    "    test_imgs = generator.predict([test_labels, test_noise])\n",
    "\n",
    "    full_test = np.concatenate((x_test, test_imgs), axis=0)\n",
    "    full_is_real = np.array([1]*NX2 + [0]*NX2)\n",
    "    full_labels = np.concatenate((y_test, test_labels), axis=0)\n",
    "\n",
    "    dte = discriminator.evaluate(full_test, [full_is_real, full_labels], verbose=0)\n",
    "    disc_test_losses.append(dte)\n",
    "    gen_train_losses.append(np.mean(generator_loss))\n",
    "    dtr = list(np.array(discriminator_loss).mean(axis=0))\n",
    "    disc_train_losses.append(dtr)\n",
    "    \n",
    "    print('\\nGenerator training loss: {0:0.5f}'.format(gen_train_losses[-1]))\n",
    "    print('Discriminator:    Total  | Real/Fake | Classifier')\n",
    "    print('Training losses: {0:0.5f} |  {1:0.5f}  | {2:0.5f}'.format(dte[0], dte[1], dte[2]))\n",
    "    print('Testing  losses: {0:0.5f} |  {1:0.5f}  | {2:0.5f}'.format(dtr[0], dtr[1], dtr[2]))\n",
    "    print('-'*58)"
   ]
  },
  {
   "cell_type": "markdown",
   "metadata": {},
   "source": [
    "## Save Trained Models"
   ]
  },
  {
   "cell_type": "code",
   "execution_count": 2,
   "metadata": {
    "collapsed": true
   },
   "outputs": [
    {
     "ename": "NameError",
     "evalue": "name 'generator' is not defined",
     "output_type": "error",
     "traceback": [
      "\u001b[1;31m---------------------------------------------------------------------------\u001b[0m",
      "\u001b[1;31mNameError\u001b[0m                                 Traceback (most recent call last)",
      "\u001b[1;32m<ipython-input-2-45b3d737ae5d>\u001b[0m in \u001b[0;36m<module>\u001b[1;34m()\u001b[0m\n\u001b[1;32m----> 1\u001b[1;33m \u001b[0mgenerator\u001b[0m\u001b[1;33m.\u001b[0m\u001b[0msave\u001b[0m\u001b[1;33m(\u001b[0m\u001b[1;34m'generator.h5'\u001b[0m\u001b[1;33m)\u001b[0m\u001b[1;33m\u001b[0m\u001b[0m\n\u001b[0m\u001b[0;32m      2\u001b[0m \u001b[0mdiscriminator\u001b[0m\u001b[1;33m.\u001b[0m\u001b[0msave\u001b[0m\u001b[1;33m(\u001b[0m\u001b[1;34m'discriminator.h5'\u001b[0m\u001b[1;33m)\u001b[0m\u001b[1;33m\u001b[0m\u001b[0m\n\u001b[0;32m      3\u001b[0m \u001b[0mcombined\u001b[0m\u001b[1;33m.\u001b[0m\u001b[0msave\u001b[0m\u001b[1;33m(\u001b[0m\u001b[1;34m'combined.h5'\u001b[0m\u001b[1;33m)\u001b[0m\u001b[1;33m\u001b[0m\u001b[0m\n",
      "\u001b[1;31mNameError\u001b[0m: name 'generator' is not defined"
     ]
    }
   ],
   "source": [
    "generator.save('generator.h5')\n",
    "discriminator.save('discriminator.h5')\n",
    "combined.save('combined.h5')"
   ]
  },
  {
   "cell_type": "markdown",
   "metadata": {},
   "source": [
    "## Load Saved Model"
   ]
  },
  {
   "cell_type": "code",
   "execution_count": 3,
   "metadata": {},
   "outputs": [],
   "source": [
    "generator = load_model('generator.h5')"
   ]
  },
  {
   "cell_type": "markdown",
   "metadata": {},
   "source": [
    "## Training Plots"
   ]
  },
  {
   "cell_type": "code",
   "execution_count": 72,
   "metadata": {},
   "outputs": [],
   "source": [
    "plt.rcParams['figure.figsize'] = (8, 5)"
   ]
  },
  {
   "cell_type": "code",
   "execution_count": 73,
   "metadata": {},
   "outputs": [
    {
     "data": {
      "image/png": "[encoded data removed]",
      "text/plain": [
       "<Figure size 576x360 with 1 Axes>"
      ]
     },
     "metadata": {},
     "output_type": "display_data"
    }
   ],
   "source": [
    "plt.plot(range(250), gen_train_losses)\n",
    "plt.show()"
   ]
  },
  {
   "cell_type": "code",
   "execution_count": 76,
   "metadata": {},
   "outputs": [
    {
     "data": {
      "image/png": "[encoded data removed]",
      "text/plain": [
       "<Figure size 576x360 with 1 Axes>"
      ]
     },
     "metadata": {},
     "output_type": "display_data"
    }
   ],
   "source": [
    "plt.plot(range(250), disc_train_losses)\n",
    "plt.legend(discriminator.metrics_names)\n",
    "plt.show()"
   ]
  },
  {
   "cell_type": "code",
   "execution_count": 77,
   "metadata": {},
   "outputs": [
    {
     "data": {
      "image/png": "[encoded data removed]",
      "text/plain": [
       "<Figure size 576x360 with 1 Axes>"
      ]
     },
     "metadata": {},
     "output_type": "display_data"
    }
   ],
   "source": [
    "plt.plot(range(250), disc_test_losses)\n",
    "plt.legend(discriminator.metrics_names)\n",
    "plt.show()"
   ]
  },
  {
   "cell_type": "markdown",
   "metadata": {},
   "source": [
    "## Digit Visualisation Widgets"
   ]
  },
  {
   "cell_type": "code",
   "execution_count": 4,
   "metadata": {},
   "outputs": [
    {
     "data": {
      "application/vnd.jupyter.widget-view+json": {
       "model_id": "4a21d20a2cbc4ae8822fa427598b0ed7",
       "version_major": 2,
       "version_minor": 0
      },
      "text/plain": [
       "interactive(children=(IntSlider(value=4, description='digit', max=9), FloatSlider(value=0.0, description='mu',…"
      ]
     },
     "metadata": {},
     "output_type": "display_data"
    }
   ],
   "source": [
    "def generate_digit(digit, mu, sigma):\n",
    "    plt.figure(2)\n",
    "    dig = np.zeros(10)\n",
    "    dig[digit] = 1\n",
    "    features = np.random.normal(mu, sigma, (100,)).clip(-1, 1)\n",
    "    arr = generator.predict([dig.reshape(1, -1), features.reshape(1, -1)]).squeeze()\n",
    "    img = Image.fromarray((arr + 1) * 127.5)\n",
    "    plt.imshow(img)\n",
    "\n",
    "interactive_plot = interactive(generate_digit, digit=(0, 9, 1), mu=(-1, 1, 0.05), sigma=(0, 1, 0.05))\n",
    "output = interactive_plot.children[-1]\n",
    "output.layout.height = '350px'\n",
    "interactive_plot"
   ]
  },
  {
   "cell_type": "code",
   "execution_count": 5,
   "metadata": {},
   "outputs": [
    {
     "data": {
      "application/vnd.jupyter.widget-view+json": {
       "model_id": "22ce47df032246cd98ecb1dcacc2e2e8",
       "version_major": 2,
       "version_minor": 0
      },
      "text/plain": [
       "interactive(children=(IntSlider(value=4, description='digit', max=9), FloatSlider(value=0.0, description='defa…"
      ]
     },
     "metadata": {},
     "output_type": "display_data"
    }
   ],
   "source": [
    "# Good elements to experiment with\n",
    "# 4: 1, 4, 10, 23, 29, 34, 63, 82\n",
    "\n",
    "def generate_digit_single_change(digit, default, element, value):\n",
    "    \"\"\"Sets all 100 values in noise to be 'default', except at index 'element' where it is set to 'value'.\"\"\"\n",
    "    plt.figure(2)\n",
    "    dig = np.zeros(10)\n",
    "    dig[digit] = 1\n",
    "    features = np.ones(100)*default\n",
    "    features[element] = value\n",
    "    arr = generator.predict([dig.reshape(1, -1), features.reshape(1, -1)]).squeeze()\n",
    "    img = Image.fromarray((arr + 1) * 127.5)\n",
    "    plt.imshow(img)\n",
    "\n",
    "interactive_plot = interactive(generate_digit_single_change, digit=(0, 9, 1), \n",
    "                               default=(-1, 1, 0.05), element=(0, 99, 1), value=(-1, 1, 0.05))\n",
    "output = interactive_plot.children[-1]\n",
    "output.layout.height = '350px'\n",
    "interactive_plot"
   ]
  },
  {
   "cell_type": "code",
   "execution_count": null,
   "metadata": {},
   "outputs": [],
   "source": []
  },
  {
   "cell_type": "code",
   "execution_count": 34,
   "metadata": {},
   "outputs": [],
   "source": []
  },
  {
   "cell_type": "code",
   "execution_count": 44,
   "metadata": {},
   "outputs": [
    {
     "data": {
      "text/plain": [
       "<matplotlib.image.AxesImage at 0x2460a0f7c18>"
      ]
     },
     "execution_count": 44,
     "metadata": {},
     "output_type": "execute_result"
    },
    {
     "data": {
      "image/png": "[encoded data removed]",
      "text/plain": [
       "<Figure size 2160x216 with 1 Axes>"
      ]
     },
     "metadata": {},
     "output_type": "display_data"
    }
   ],
   "source": [
    "tt = generator.predict([np.eye(10), np.ones((10, 100))*-0.2])\n",
    "ttlist = [tt[i,:,:,:].squeeze() for i in range(10)]\n",
    "ttall = np.concatenate(ttlist, axis=1)\n",
    "ttadj = (ttall + 1) * 127.5\n",
    "ttallimg = Image.fromarray(ttadj)\n",
    "plt.rcParams['figure.figsize'] = (30, 3)\n",
    "plt.imshow(ttallimg)"
   ]
  },
  {
   "cell_type": "markdown",
   "metadata": {},
   "source": [
    "## Output Visualisation"
   ]
  },
  {
   "cell_type": "code",
   "execution_count": 78,
   "metadata": {},
   "outputs": [
    {
     "data": {
      "text/plain": [
       "<matplotlib.image.AxesImage at 0x209cbd393c8>"
      ]
     },
     "execution_count": 78,
     "metadata": {},
     "output_type": "execute_result"
    },
    {
     "data": {
      "image/png": "[encoded data removed]",
      "text/plain": [
       "<Figure size 1440x144 with 1 Axes>"
      ]
     },
     "metadata": {},
     "output_type": "display_data"
    }
   ],
   "source": [
    "og_imgs = generator.predict([og_labels, np.zeros((10, 100))])\n",
    "og_img_list = [og_imgs[i,:,:,:].squeeze() for i in range(10)]\n",
    "og_all = np.concatenate(og_img_list, axis=1)\n",
    "og_img = Image.fromarray((og_all + 1)*127.5)\n",
    "plt.rcParams['figure.figsize'] = (20, 2)\n",
    "plt.imshow(og_img)"
   ]
  },
  {
   "cell_type": "code",
   "execution_count": 103,
   "metadata": {},
   "outputs": [
    {
     "data": {
      "text/plain": [
       "<matplotlib.image.AxesImage at 0x209cbc47668>"
      ]
     },
     "execution_count": 103,
     "metadata": {},
     "output_type": "execute_result"
    },
    {
     "data": {
      "image/png": "[encoded data removed]",
      "text/plain": [
       "<Figure size 1440x1152 with 1 Axes>"
      ]
     },
     "metadata": {},
     "output_type": "display_data"
    }
   ],
   "source": [
    "og_imgs_list = []\n",
    "for const in range(8):\n",
    "    og_imgs = generator.predict([og_labels, const*0.05*np.ones((10, 100))])\n",
    "    og_img_list = [og_imgs[i,:,:,:].squeeze() for i in range(10)]\n",
    "    og_all = np.concatenate(og_img_list, axis=1)\n",
    "    og_imgs_list.append(og_all)\n",
    "og_final = np.concatenate(og_imgs_list, axis=0)\n",
    "og_img = Image.fromarray((og_final + 1)*127.5)\n",
    "plt.rcParams['figure.figsize'] = (20, 16)\n",
    "plt.imshow(og_img)"
   ]
  },
  {
   "cell_type": "code",
   "execution_count": 50,
   "metadata": {},
   "outputs": [
    {
     "data": {
      "text/plain": [
       "<matplotlib.image.AxesImage at 0x2148c760cc0>"
      ]
     },
     "execution_count": 50,
     "metadata": {},
     "output_type": "execute_result"
    },
    {
     "data": {
      "image/png": "[encoded data removed]",
      "text/plain": [
       "<Figure size 1440x144 with 1 Axes>"
      ]
     },
     "metadata": {},
     "output_type": "display_data"
    }
   ],
   "source": [
    "og_imgs = generator.predict([np.eye(10), np.random.uniform(-1, 1, (10, 100))])\n",
    "og_img_list = [og_imgs[i,:,:,:].squeeze() for i in range(10)]\n",
    "og_all = np.concatenate(og_img_list, axis=1)\n",
    "og_img = Image.fromarray((og_all + 1)*127.5)\n",
    "plt.rcParams['figure.figsize'] = (20, 2)\n",
    "plt.imshow(og_img)"
   ]
  },
  {
   "cell_type": "code",
   "execution_count": null,
   "metadata": {},
   "outputs": [],
   "source": []
  },
  {
   "cell_type": "code",
   "execution_count": null,
   "metadata": {},
   "outputs": [],
   "source": []
  },
  {
   "cell_type": "code",
   "execution_count": null,
   "metadata": {},
   "outputs": [],
   "source": []
  },
  {
   "cell_type": "code",
   "execution_count": 15,
   "metadata": {
    "scrolled": false
   },
   "outputs": [
    {
     "name": "stdout",
     "output_type": "stream",
     "text": [
      "__________________________________________________________________________________________________\n",
      "Layer (type)                    Output Shape         Param #     Connected to                     \n",
      "==================================================================================================\n",
      "input_1 (InputLayer)            (None, 10)           0                                            \n",
      "__________________________________________________________________________________________________\n",
      "input_2 (InputLayer)            (None, 100)          0                                            \n",
      "__________________________________________________________________________________________________\n",
      "embedding_1 (Embedding)         (None, 10, 100)      1000        input_1[0][0]                    \n",
      "__________________________________________________________________________________________________\n",
      "multiply_1 (Multiply)           (None, 10, 100)      0           input_2[0][0]                    \n",
      "                                                                 embedding_1[0][0]                \n",
      "__________________________________________________________________________________________________\n",
      "flatten_1 (Flatten)             (None, 1000)         0           multiply_1[0][0]                 \n",
      "__________________________________________________________________________________________________\n",
      "dense_1 (Dense)                 (None, 1024)         1025024     flatten_1[0][0]                  \n",
      "__________________________________________________________________________________________________\n",
      "batch_normalization_1 (BatchNor (None, 1024)         4096        dense_1[0][0]                    \n",
      "__________________________________________________________________________________________________\n",
      "activation_1 (Activation)       (None, 1024)         0           batch_normalization_1[0][0]      \n",
      "__________________________________________________________________________________________________\n",
      "dense_2 (Dense)                 (None, 6272)         6428800     activation_1[0][0]               \n",
      "__________________________________________________________________________________________________\n",
      "batch_normalization_2 (BatchNor (None, 6272)         25088       dense_2[0][0]                    \n",
      "__________________________________________________________________________________________________\n",
      "activation_2 (Activation)       (None, 6272)         0           batch_normalization_2[0][0]      \n",
      "__________________________________________________________________________________________________\n",
      "reshape_1 (Reshape)             (None, 7, 7, 128)    0           activation_2[0][0]               \n",
      "__________________________________________________________________________________________________\n",
      "up_sampling2d_1 (UpSampling2D)  (None, 14, 14, 128)  0           reshape_1[0][0]                  \n",
      "__________________________________________________________________________________________________\n",
      "conv2d_1 (Conv2D)               (None, 14, 14, 256)  819456      up_sampling2d_1[0][0]            \n",
      "__________________________________________________________________________________________________\n",
      "batch_normalization_3 (BatchNor (None, 14, 14, 256)  1024        conv2d_1[0][0]                   \n",
      "__________________________________________________________________________________________________\n",
      "activation_3 (Activation)       (None, 14, 14, 256)  0           batch_normalization_3[0][0]      \n",
      "__________________________________________________________________________________________________\n",
      "up_sampling2d_2 (UpSampling2D)  (None, 28, 28, 256)  0           activation_3[0][0]               \n",
      "__________________________________________________________________________________________________\n",
      "conv2d_2 (Conv2D)               (None, 28, 28, 128)  819328      up_sampling2d_2[0][0]            \n",
      "__________________________________________________________________________________________________\n",
      "batch_normalization_4 (BatchNor (None, 28, 28, 128)  512         conv2d_2[0][0]                   \n",
      "__________________________________________________________________________________________________\n",
      "activation_4 (Activation)       (None, 28, 28, 128)  0           batch_normalization_4[0][0]      \n",
      "__________________________________________________________________________________________________\n",
      "conv2d_3 (Conv2D)               (None, 28, 28, 1)    513         activation_4[0][0]               \n",
      "__________________________________________________________________________________________________\n",
      "batch_normalization_5 (BatchNor (None, 28, 28, 1)    4           conv2d_3[0][0]                   \n",
      "__________________________________________________________________________________________________\n",
      "activation_5 (Activation)       (None, 28, 28, 1)    0           batch_normalization_5[0][0]      \n",
      "==================================================================================================\n",
      "Total params: 9,124,845\n",
      "Trainable params: 9,109,483\n",
      "Non-trainable params: 15,362\n",
      "__________________________________________________________________________________________________\n"
     ]
    }
   ],
   "source": [
    "generator.summary()"
   ]
  },
  {
   "cell_type": "code",
   "execution_count": 59,
   "metadata": {},
   "outputs": [],
   "source": [
    "digits, noise, embed = generator.layers[0], generator.layers[1], generator.layers[2]"
   ]
  },
  {
   "cell_type": "code",
   "execution_count": 63,
   "metadata": {},
   "outputs": [],
   "source": [
    "noise_embed = embed"
   ]
  },
  {
   "cell_type": "code",
   "execution_count": 64,
   "metadata": {},
   "outputs": [
    {
     "ename": "TypeError",
     "evalue": "Input() got an unexpected keyword argument 'weights'",
     "output_type": "error",
     "traceback": [
      "\u001b[1;31m---------------------------------------------------------------------------\u001b[0m",
      "\u001b[1;31mTypeError\u001b[0m                                 Traceback (most recent call last)",
      "\u001b[1;32m<ipython-input-64-be60eb695a5b>\u001b[0m in \u001b[0;36m<module>\u001b[1;34m()\u001b[0m\n\u001b[0;32m      1\u001b[0m \u001b[1;31m# Create inputs\u001b[0m\u001b[1;33m\u001b[0m\u001b[1;33m\u001b[0m\u001b[0m\n\u001b[1;32m----> 2\u001b[1;33m \u001b[0mdigit_in\u001b[0m \u001b[1;33m=\u001b[0m \u001b[0mInput\u001b[0m\u001b[1;33m(\u001b[0m\u001b[0mshape\u001b[0m\u001b[1;33m=\u001b[0m\u001b[1;33m(\u001b[0m\u001b[0mNUM_DIGIT_CLASSES\u001b[0m\u001b[1;33m,\u001b[0m\u001b[1;33m)\u001b[0m\u001b[1;33m,\u001b[0m \u001b[0mdtype\u001b[0m\u001b[1;33m=\u001b[0m\u001b[1;34m'int32'\u001b[0m\u001b[1;33m,\u001b[0m \u001b[0mweights\u001b[0m\u001b[1;33m=\u001b[0m\u001b[0mgenerator\u001b[0m\u001b[1;33m.\u001b[0m\u001b[0mlayers\u001b[0m\u001b[1;33m[\u001b[0m\u001b[1;36m0\u001b[0m\u001b[1;33m]\u001b[0m\u001b[1;33m.\u001b[0m\u001b[0mweights\u001b[0m\u001b[1;33m)\u001b[0m\u001b[1;33m\u001b[0m\u001b[0m\n\u001b[0m\u001b[0;32m      3\u001b[0m \u001b[0mnoise_in\u001b[0m \u001b[1;33m=\u001b[0m \u001b[0mInput\u001b[0m\u001b[1;33m(\u001b[0m\u001b[0mshape\u001b[0m\u001b[1;33m=\u001b[0m\u001b[1;33m(\u001b[0m\u001b[0mNOISE_LAYER_SIZE\u001b[0m\u001b[1;33m,\u001b[0m\u001b[1;33m)\u001b[0m\u001b[1;33m,\u001b[0m \u001b[0mdtype\u001b[0m\u001b[1;33m=\u001b[0m\u001b[1;34m'float32'\u001b[0m\u001b[1;33m,\u001b[0m \u001b[0mweights\u001b[0m\u001b[1;33m=\u001b[0m\u001b[0mgenerator\u001b[0m\u001b[1;33m.\u001b[0m\u001b[0mlayers\u001b[0m\u001b[1;33m[\u001b[0m\u001b[1;36m1\u001b[0m\u001b[1;33m]\u001b[0m\u001b[1;33m.\u001b[0m\u001b[0mweights\u001b[0m\u001b[1;33m)\u001b[0m\u001b[1;33m\u001b[0m\u001b[0m\n",
      "\u001b[1;31mTypeError\u001b[0m: Input() got an unexpected keyword argument 'weights'"
     ]
    }
   ],
   "source": [
    "# Create inputs\n",
    "digit_in = Input(shape=(NUM_DIGIT_CLASSES,), dtype='int32', weights=generator.layers[0].weights)\n",
    "noise_in = Input(shape=(NOISE_LAYER_SIZE,), dtype='float32', weights=generator.layers[1].weights)"
   ]
  },
  {
   "cell_type": "code",
   "execution_count": null,
   "metadata": {},
   "outputs": [],
   "source": [
    "# Create inputs\n",
    "digit_in = Input(shape=(NUM_DIGIT_CLASSES,), dtype='int32')\n",
    "noise_in = Input(shape=(NOISE_LAYER_SIZE,), dtype='float32')\n",
    "\n",
    "# Combine inputs\n",
    "digit_embed = Embedding(input_dim=NUM_DIGIT_CLASSES, output_dim=NOISE_LAYER_SIZE, embeddings_initializer='glorot_normal')(digit_in)\n",
    "combined = Multiply()([noise_in, digit_embed])\n",
    "combined = Flatten()(combined)\n",
    "\n",
    "# Add layers\n",
    "gen = Dense(1024)(combined)\n",
    "gen = BatchNormalization(momentum=0.9)(gen)\n",
    "gen = Activation('relu')(gen)\n",
    "gen = Dense(128*7*7)(gen)\n",
    "gen = BatchNormalization(momentum=0.9)(gen)\n",
    "gen = Activation('relu')(gen)\n",
    "gen = Reshape((7, 7, 128))(gen)\n",
    "gen = UpSampling2D((2, 2))(gen)\n",
    "gen = Conv2D(256, (5, 5), padding='same', kernel_initializer='glorot_normal')(gen)\n",
    "gen = BatchNormalization(momentum=0.9)(gen)\n",
    "gen = Activation('tanh')(gen)\n",
    "gen = UpSampling2D((2, 2))(gen)\n",
    "gen = Conv2D(128, (5, 5), padding='same', kernel_initializer='glorot_normal')(gen)\n",
    "gen = BatchNormalization(momentum=0.9)(gen)\n",
    "gen = Activation('tanh')(gen)\n",
    "gen = Conv2D(1, (2, 2), padding='same', kernel_initializer='glorot_normal')(gen)\n",
    "gen = BatchNormalization(momentum=0.9)(gen)\n",
    "gen = Activation('tanh')(gen)\n",
    "\n",
    "# Create and compile model\n",
    "generator = Model([digit_in, noise_in], gen)\n",
    "generator.compile(Adam(ADAM_LR, ADAM_BETA1), 'binary_crossentropy')"
   ]
  },
  {
   "cell_type": "code",
   "execution_count": null,
   "metadata": {},
   "outputs": [],
   "source": []
  },
  {
   "cell_type": "code",
   "execution_count": 65,
   "metadata": {},
   "outputs": [],
   "source": [
    "import h5py"
   ]
  },
  {
   "cell_type": "code",
   "execution_count": 82,
   "metadata": {},
   "outputs": [],
   "source": [
    "th5 = h5py.File('generator.h5', 'r')"
   ]
  },
  {
   "cell_type": "code",
   "execution_count": 83,
   "metadata": {},
   "outputs": [
    {
     "data": {
      "text/plain": [
       "['model_weights']"
      ]
     },
     "execution_count": 83,
     "metadata": {},
     "output_type": "execute_result"
    }
   ],
   "source": [
    "list(th5.keys())"
   ]
  },
  {
   "cell_type": "code",
   "execution_count": 84,
   "metadata": {},
   "outputs": [
    {
     "data": {
      "text/plain": [
       "['activation_1',\n",
       " 'activation_2',\n",
       " 'activation_3',\n",
       " 'activation_4',\n",
       " 'activation_5',\n",
       " 'batch_normalization_1',\n",
       " 'batch_normalization_2',\n",
       " 'batch_normalization_3',\n",
       " 'batch_normalization_4',\n",
       " 'batch_normalization_5',\n",
       " 'conv2d_1',\n",
       " 'conv2d_2',\n",
       " 'conv2d_3',\n",
       " 'dense_1',\n",
       " 'dense_2',\n",
       " 'embedding_1',\n",
       " 'flatten_1',\n",
       " 'input_1',\n",
       " 'input_2',\n",
       " 'multiply_1',\n",
       " 'reshape_1',\n",
       " 'up_sampling2d_1',\n",
       " 'up_sampling2d_2']"
      ]
     },
     "execution_count": 84,
     "metadata": {},
     "output_type": "execute_result"
    }
   ],
   "source": [
    "list(th5['model_weights'].keys())"
   ]
  },
  {
   "cell_type": "code",
   "execution_count": 91,
   "metadata": {},
   "outputs": [],
   "source": [
    "dense1 = th5['model_weights']['dense_1']['dense_1']['kernel:0']\n",
    "dense2 = th5['model_weights']['dense_2']['dense_2']['kernel:0']"
   ]
  },
  {
   "cell_type": "code",
   "execution_count": 92,
   "metadata": {},
   "outputs": [
    {
     "data": {
      "text/plain": [
       "<HDF5 dataset \"kernel:0\": shape (1024, 6272), type \"<f4\">"
      ]
     },
     "execution_count": 92,
     "metadata": {},
     "output_type": "execute_result"
    }
   ],
   "source": [
    "dense2"
   ]
  },
  {
   "cell_type": "code",
   "execution_count": null,
   "metadata": {},
   "outputs": [],
   "source": []
  },
  {
   "cell_type": "code",
   "execution_count": null,
   "metadata": {},
   "outputs": [],
   "source": []
  },
  {
   "cell_type": "code",
   "execution_count": null,
   "metadata": {},
   "outputs": [],
   "source": []
  }
 ],
 "metadata": {
  "kernelspec": {
   "display_name": "Python [conda env:gpu]",
   "language": "python",
   "name": "conda-env-gpu-py"
  },
  "language_info": {
   "codemirror_mode": {
    "name": "ipython",
    "version": 3
   },
   "file_extension": ".py",
   "mimetype": "text/x-python",
   "name": "python",
   "nbconvert_exporter": "python",
   "pygments_lexer": "ipython3",
   "version": "3.6.5"
  }
 },
 "nbformat": 4,
 "nbformat_minor": 2
}
